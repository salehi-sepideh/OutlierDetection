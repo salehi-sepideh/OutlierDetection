{
  "nbformat": 4,
  "nbformat_minor": 0,
  "metadata": {
    "colab": {
      "provenance": []
    },
    "kernelspec": {
      "name": "python3",
      "display_name": "Python 3"
    },
    "language_info": {
      "name": "python"
    }
  },
  "cells": [
    {
      "cell_type": "code",
      "source": [
        "import numpy as np\n",
        "import os\n",
        "import cv2\n",
        "import zipfile"
      ],
      "metadata": {
        "id": "m5Wuh9TDYVCT"
      },
      "execution_count": 15,
      "outputs": []
    },
    {
      "cell_type": "code",
      "source": [
        "images=[]\n",
        "extracted_files = \"/content/extracted_files\"\n",
        "for file_name in os.listdir(os.path.join(extracted_files, \"Pistachio\")):\n",
        "  img_path = os.path.join(extracted_files, \"Pistachio\", file_name)\n",
        "  img=cv2.imread(img_path)\n",
        "  img=cv2.resize(img,(500,500))\n",
        "  hist=cv2.calcHist([img],[0,1,2],None,[8,8,8],[0,256,0,256,0,256])\n",
        "  cv2.normalize(hist,hist)\n",
        "  histogram_features=hist.flatten()\n",
        "  image_gray=cv2.cvtColor(img, cv2.COLOR_BGR2GRAY)\n",
        "  hue_features=cv2.HuMoments(cv2.moments(image_gray)).flatten()\n",
        "  current_features=np.hstack([histogram_features , hue_features])\n",
        "  images.append(current_features)\n",
        "images=np.array(images)\n"
      ],
      "metadata": {
        "id": "wjISwTNibffn"
      },
      "execution_count": 19,
      "outputs": []
    },
    {
      "cell_type": "code",
      "source": [
        "images"
      ],
      "metadata": {
        "colab": {
          "base_uri": "https://localhost:8080/"
        },
        "id": "KSEPlpeEkiEh",
        "outputId": "95070990-afcf-44c3-bcf2-cee813013b02"
      },
      "execution_count": 20,
      "outputs": [
        {
          "output_type": "execute_result",
          "data": {
            "text/plain": [
              "array([[ 9.93987441e-01,  5.14864660e-05,  0.00000000e+00, ...,\n",
              "         7.91200099e-25,  4.64527053e-16,  1.15240493e-24],\n",
              "       [ 9.93400097e-01,  9.02786851e-05,  0.00000000e+00, ...,\n",
              "        -2.97743123e-25,  1.22228601e-16,  5.77462805e-26],\n",
              "       [ 9.87825036e-01,  2.18587360e-04,  0.00000000e+00, ...,\n",
              "        -1.01246470e-25,  6.76114099e-17,  2.32079137e-25],\n",
              "       ...,\n",
              "       [ 9.92688060e-01,  1.73569846e-04,  0.00000000e+00, ...,\n",
              "        -1.12723065e-26,  1.36610982e-17, -7.99907652e-26],\n",
              "       [ 9.89905775e-01,  8.15530148e-05,  0.00000000e+00, ...,\n",
              "         1.72092277e-24,  2.92237115e-16, -1.69241877e-24],\n",
              "       [ 9.94166672e-01,  6.47341221e-05,  0.00000000e+00, ...,\n",
              "         3.33711488e-24,  9.88161858e-17,  4.18323248e-24]])"
            ]
          },
          "metadata": {},
          "execution_count": 20
        }
      ]
    },
    {
      "cell_type": "code",
      "source": [
        "from sklearn.preprocessing import StandardScaler\n",
        "scaler=StandardScaler()\n",
        "images_scaled=scaler.fit_transform(images)"
      ],
      "metadata": {
        "id": "OfQhIa5npjcy"
      },
      "execution_count": 21,
      "outputs": []
    },
    {
      "cell_type": "code",
      "source": [
        "from sklearn.ensemble import IsolationForest\n",
        "iso_forest=IsolationForest(contamination=0.001)\n",
        "outlier_labels_iso=iso_forest.fit_predict(images_scaled)\n",
        "outliers_labels_iso=np.where(outlier_labels_iso==-1)[0]\n",
        "print(outliers_labels_iso)"
      ],
      "metadata": {
        "colab": {
          "base_uri": "https://localhost:8080/"
        },
        "id": "QgO5KchXp-JF",
        "outputId": "13e143f1-b7c2-4568-843b-58a6c2835ba0"
      },
      "execution_count": 25,
      "outputs": [
        {
          "output_type": "stream",
          "name": "stdout",
          "text": [
            "[ 721 1165 1246]\n"
          ]
        }
      ]
    },
    {
      "cell_type": "code",
      "source": [
        "from sklearn.neighbors import LocalOutlierFactor\n",
        "lof=LocalOutlierFactor(contamination=0.001)\n",
        "outlier_labels_lof=lof.fit_predict(images_scaled)\n",
        "outliers_labels_lof=np.where(outlier_labels_lof==-1)[0]\n",
        "print(outliers_labels_lof)"
      ],
      "metadata": {
        "colab": {
          "base_uri": "https://localhost:8080/"
        },
        "id": "C08l3fpNqcqo",
        "outputId": "f331c7ac-1f48-463d-9ace-5a385a976b9e"
      },
      "execution_count": 33,
      "outputs": [
        {
          "output_type": "stream",
          "name": "stdout",
          "text": [
            "[ 978 1300 1428]\n"
          ]
        }
      ]
    },
    {
      "cell_type": "code",
      "source": [
        "!pip install pyod"
      ],
      "metadata": {
        "colab": {
          "base_uri": "https://localhost:8080/"
        },
        "collapsed": true,
        "id": "9692rgGhrl7_",
        "outputId": "d7e5922f-4cde-47ce-d397-2e45b6531801"
      },
      "execution_count": 27,
      "outputs": [
        {
          "output_type": "stream",
          "name": "stdout",
          "text": [
            "Collecting pyod\n",
            "  Downloading pyod-2.0.2.tar.gz (165 kB)\n",
            "\u001b[?25l     \u001b[90m━━━━━━━━━━━━━━━━━━━━━━━━━━━━━━━━━━━━━━━━\u001b[0m \u001b[32m0.0/165.8 kB\u001b[0m \u001b[31m?\u001b[0m eta \u001b[36m-:--:--\u001b[0m\r\u001b[2K     \u001b[91m━━━━━━━━━━━━━━━━━━━━━━━━━━━━━━━━━━━━━━━\u001b[0m\u001b[91m╸\u001b[0m \u001b[32m163.8/165.8 kB\u001b[0m \u001b[31m4.8 MB/s\u001b[0m eta \u001b[36m0:00:01\u001b[0m\r\u001b[2K     \u001b[90m━━━━━━━━━━━━━━━━━━━━━━━━━━━━━━━━━━━━━━━━\u001b[0m \u001b[32m165.8/165.8 kB\u001b[0m \u001b[31m3.4 MB/s\u001b[0m eta \u001b[36m0:00:00\u001b[0m\n",
            "\u001b[?25h  Preparing metadata (setup.py) ... \u001b[?25l\u001b[?25hdone\n",
            "Requirement already satisfied: joblib in /usr/local/lib/python3.10/dist-packages (from pyod) (1.4.2)\n",
            "Requirement already satisfied: matplotlib in /usr/local/lib/python3.10/dist-packages (from pyod) (3.7.1)\n",
            "Requirement already satisfied: numpy>=1.19 in /usr/local/lib/python3.10/dist-packages (from pyod) (1.26.4)\n",
            "Requirement already satisfied: numba>=0.51 in /usr/local/lib/python3.10/dist-packages (from pyod) (0.60.0)\n",
            "Requirement already satisfied: scipy>=1.5.1 in /usr/local/lib/python3.10/dist-packages (from pyod) (1.13.1)\n",
            "Requirement already satisfied: scikit-learn>=0.22.0 in /usr/local/lib/python3.10/dist-packages (from pyod) (1.5.2)\n",
            "Requirement already satisfied: llvmlite<0.44,>=0.43.0dev0 in /usr/local/lib/python3.10/dist-packages (from numba>=0.51->pyod) (0.43.0)\n",
            "Requirement already satisfied: threadpoolctl>=3.1.0 in /usr/local/lib/python3.10/dist-packages (from scikit-learn>=0.22.0->pyod) (3.5.0)\n",
            "Requirement already satisfied: contourpy>=1.0.1 in /usr/local/lib/python3.10/dist-packages (from matplotlib->pyod) (1.3.0)\n",
            "Requirement already satisfied: cycler>=0.10 in /usr/local/lib/python3.10/dist-packages (from matplotlib->pyod) (0.12.1)\n",
            "Requirement already satisfied: fonttools>=4.22.0 in /usr/local/lib/python3.10/dist-packages (from matplotlib->pyod) (4.53.1)\n",
            "Requirement already satisfied: kiwisolver>=1.0.1 in /usr/local/lib/python3.10/dist-packages (from matplotlib->pyod) (1.4.7)\n",
            "Requirement already satisfied: packaging>=20.0 in /usr/local/lib/python3.10/dist-packages (from matplotlib->pyod) (24.1)\n",
            "Requirement already satisfied: pillow>=6.2.0 in /usr/local/lib/python3.10/dist-packages (from matplotlib->pyod) (10.4.0)\n",
            "Requirement already satisfied: pyparsing>=2.3.1 in /usr/local/lib/python3.10/dist-packages (from matplotlib->pyod) (3.1.4)\n",
            "Requirement already satisfied: python-dateutil>=2.7 in /usr/local/lib/python3.10/dist-packages (from matplotlib->pyod) (2.8.2)\n",
            "Requirement already satisfied: six>=1.5 in /usr/local/lib/python3.10/dist-packages (from python-dateutil>=2.7->matplotlib->pyod) (1.16.0)\n",
            "Building wheels for collected packages: pyod\n",
            "  Building wheel for pyod (setup.py) ... \u001b[?25l\u001b[?25hdone\n",
            "  Created wheel for pyod: filename=pyod-2.0.2-py3-none-any.whl size=198469 sha256=b6e19ec832a203e2c47d0ef6da58ed290e7283644b221ec38630dbf772d4ee9c\n",
            "  Stored in directory: /root/.cache/pip/wheels/77/c2/20/34d1f15b41b701ba69f42a32304825810d680754d509f91391\n",
            "Successfully built pyod\n",
            "Installing collected packages: pyod\n",
            "Successfully installed pyod-2.0.2\n"
          ]
        }
      ]
    },
    {
      "cell_type": "code",
      "source": [
        "from pyod.models import abod\n",
        "abod_od=abod.ABOD(n_neighbors=20 , contamination=0.001)\n",
        "outlire_labels_abod=abod_od.fit_predict(images_scaled)\n",
        "outlires_labels_abod=np.where(outlire_labels_abod==1)[0]\n",
        "print(outlires_labels_abod)"
      ],
      "metadata": {
        "colab": {
          "base_uri": "https://localhost:8080/"
        },
        "id": "QM--GEp1rwXu",
        "outputId": "419aaba0-9fb1-460e-a68e-ce229ec7dcd7"
      },
      "execution_count": 28,
      "outputs": [
        {
          "output_type": "stream",
          "name": "stderr",
          "text": [
            "/usr/local/lib/python3.10/dist-packages/sklearn/utils/deprecation.py:87: FutureWarning: Function fit_predict is deprecated\n",
            "  warnings.warn(msg, category=FutureWarning)\n"
          ]
        },
        {
          "output_type": "stream",
          "name": "stdout",
          "text": [
            "[1165 1300 1305]\n"
          ]
        }
      ]
    },
    {
      "cell_type": "code",
      "source": [],
      "metadata": {
        "id": "_zZ915g1sdbT"
      },
      "execution_count": null,
      "outputs": []
    }
  ]
}